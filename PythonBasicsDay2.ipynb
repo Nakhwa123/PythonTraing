{
  "nbformat": 4,
  "nbformat_minor": 0,
  "metadata": {
    "colab": {
      "name": "PythonBasics.ipynb",
      "provenance": [],
      "collapsed_sections": [],
      "authorship_tag": "ABX9TyOciE/r7ioAiAtmm8O46o15",
      "include_colab_link": true
    },
    "kernelspec": {
      "name": "python3",
      "display_name": "Python 3"
    }
  },
  "cells": [
    {
      "cell_type": "markdown",
      "metadata": {
        "id": "view-in-github",
        "colab_type": "text"
      },
      "source": [
        "<a href=\"https://colab.research.google.com/github/Nakhwa123/PythonTraing/blob/master/PythonBasicsDay2.ipynb\" target=\"_parent\"><img src=\"https://colab.research.google.com/assets/colab-badge.svg\" alt=\"Open In Colab\"/></a>"
      ]
    },
    {
      "cell_type": "code",
      "metadata": {
        "id": "c4cZYaFADPO7",
        "outputId": "845ccc92-acde-4da3-e100-55b207e169d7",
        "colab": {
          "base_uri": "https://localhost:8080/"
        }
      },
      "source": [
        "List5 = [5,78,100]\n",
        "for x in List5:\n",
        "  print(x)"
      ],
      "execution_count": null,
      "outputs": [
        {
          "output_type": "stream",
          "text": [
            "5\n",
            "78\n",
            "100\n"
          ],
          "name": "stdout"
        }
      ]
    },
    {
      "cell_type": "code",
      "metadata": {
        "id": "p8D4ShadDeNA",
        "outputId": "9958b98d-7212-4cf6-c0c8-eb6da1614072",
        "colab": {
          "base_uri": "https://localhost:8080/"
        }
      },
      "source": [
        "List5 = [5,78,100]\n",
        "if 100 in List5:\n",
        "  print(\"Found\")"
      ],
      "execution_count": null,
      "outputs": [
        {
          "output_type": "stream",
          "text": [
            "Found\n"
          ],
          "name": "stdout"
        }
      ]
    },
    {
      "cell_type": "code",
      "metadata": {
        "id": "LQthv4VdD0Fy",
        "outputId": "baac129e-e894-4566-8b4f-1618895e0d57",
        "colab": {
          "base_uri": "https://localhost:8080/"
        }
      },
      "source": [
        "List5 = [5,78,100]\n",
        "print(len(List5))"
      ],
      "execution_count": null,
      "outputs": [
        {
          "output_type": "stream",
          "text": [
            "3\n"
          ],
          "name": "stdout"
        }
      ]
    },
    {
      "cell_type": "code",
      "metadata": {
        "id": "xWBqhPuVD-ky",
        "outputId": "876ffabb-ae76-4b97-d80a-c1e35f138065",
        "colab": {
          "base_uri": "https://localhost:8080/"
        }
      },
      "source": [
        "List5 = [5,78,100]\n",
        "List5.append(10000)\n",
        "print(List5)"
      ],
      "execution_count": null,
      "outputs": [
        {
          "output_type": "stream",
          "text": [
            "[5, 78, 100, 10000]\n"
          ],
          "name": "stdout"
        }
      ]
    },
    {
      "cell_type": "code",
      "metadata": {
        "id": "7sGj3oWOEMBf",
        "outputId": "d1186342-5a6f-4a81-cd31-123c9d879cbf",
        "colab": {
          "base_uri": "https://localhost:8080/"
        }
      },
      "source": [
        "List5 = [5,78,100]\n",
        "List5.insert(0,1999)\n",
        "print(List5)"
      ],
      "execution_count": null,
      "outputs": [
        {
          "output_type": "stream",
          "text": [
            "[1999, 5, 78, 100]\n"
          ],
          "name": "stdout"
        }
      ]
    },
    {
      "cell_type": "code",
      "metadata": {
        "id": "emaJgqSWEY5X",
        "outputId": "afb69e33-faa5-481a-a375-662f5a66eedb",
        "colab": {
          "base_uri": "https://localhost:8080/"
        }
      },
      "source": [
        "List5 = [5,78,100]\n",
        "List5.insert(1,1999)\n",
        "print(List5)"
      ],
      "execution_count": null,
      "outputs": [
        {
          "output_type": "stream",
          "text": [
            "[5, 1999, 78, 100]\n"
          ],
          "name": "stdout"
        }
      ]
    },
    {
      "cell_type": "code",
      "metadata": {
        "id": "xc3gJxeVEmw6",
        "outputId": "cfcadf76-20ca-4093-83ea-f04e90e1cddf",
        "colab": {
          "base_uri": "https://localhost:8080/"
        }
      },
      "source": [
        "List5 = [\"Nayan\",\"Nakhwa\"]\n",
        "List5.insert(1,\"Keshav\")\n",
        "print(List5)"
      ],
      "execution_count": null,
      "outputs": [
        {
          "output_type": "stream",
          "text": [
            "['Nayan', 'Keshav', 'Nakhwa']\n"
          ],
          "name": "stdout"
        }
      ]
    },
    {
      "cell_type": "code",
      "metadata": {
        "id": "E9gSwNtOFKEC",
        "outputId": "0ede4c5f-8a5b-4c0c-c817-f03a3008efbe",
        "colab": {
          "base_uri": "https://localhost:8080/"
        }
      },
      "source": [
        "List5 = [\"Nayan\",\"Nakhwa\"]\n",
        "List5.append(\"Best\")\n",
        "print(List5)"
      ],
      "execution_count": null,
      "outputs": [
        {
          "output_type": "stream",
          "text": [
            "['Nayan', 'Nakhwa', 'Best']\n"
          ],
          "name": "stdout"
        }
      ]
    },
    {
      "cell_type": "code",
      "metadata": {
        "id": "w1RFGGsHFUUd",
        "outputId": "91bc4398-f55f-49c7-b30b-9301dfe59c5b",
        "colab": {
          "base_uri": "https://localhost:8080/"
        }
      },
      "source": [
        "List5\n",
        "List5.remove(\"Best\")\n",
        "print(List5)"
      ],
      "execution_count": null,
      "outputs": [
        {
          "output_type": "stream",
          "text": [
            "['Nayan', 'Nakhwa']\n"
          ],
          "name": "stdout"
        }
      ]
    },
    {
      "cell_type": "code",
      "metadata": {
        "id": "PWPuMYIXFilV",
        "outputId": "59ab8b2e-6f65-4208-b08e-5b1cc078794a",
        "colab": {
          "base_uri": "https://localhost:8080/"
        }
      },
      "source": [
        "List5 = [\"Nayan\",\"Nakhwa\",\"Best\"]\n",
        "List5.pop()\n",
        "print(List5)"
      ],
      "execution_count": null,
      "outputs": [
        {
          "output_type": "stream",
          "text": [
            "['Nayan', 'Nakhwa']\n"
          ],
          "name": "stdout"
        }
      ]
    },
    {
      "cell_type": "code",
      "metadata": {
        "id": "fDRj9JxiF0E0",
        "outputId": "63afaebf-0686-42ee-dea2-76b6af6348f3",
        "colab": {
          "base_uri": "https://localhost:8080/"
        }
      },
      "source": [
        "List5 = [\"Nayan\",\"Nakhwa\",\"Best\"]\n",
        "List5.pop(1)\n",
        "print(List5)"
      ],
      "execution_count": null,
      "outputs": [
        {
          "output_type": "stream",
          "text": [
            "['Nayan', 'Best']\n"
          ],
          "name": "stdout"
        }
      ]
    },
    {
      "cell_type": "code",
      "metadata": {
        "id": "AcYZ8U3XGArL",
        "outputId": "19862ccb-186b-41c1-e6cb-1c8d0a4afca5",
        "colab": {
          "base_uri": "https://localhost:8080/",
          "height": 197
        }
      },
      "source": [
        "List5 = [\"Nayan\",\"Nakhwa\",\"Best\"]\n",
        "del List5\n",
        "print(List5)"
      ],
      "execution_count": null,
      "outputs": [
        {
          "output_type": "error",
          "ename": "NameError",
          "evalue": "ignored",
          "traceback": [
            "\u001b[0;31m---------------------------------------------------------------------------\u001b[0m",
            "\u001b[0;31mNameError\u001b[0m                                 Traceback (most recent call last)",
            "\u001b[0;32m<ipython-input-22-3a8511f3217b>\u001b[0m in \u001b[0;36m<module>\u001b[0;34m()\u001b[0m\n\u001b[1;32m      1\u001b[0m \u001b[0mList5\u001b[0m \u001b[0;34m=\u001b[0m \u001b[0;34m[\u001b[0m\u001b[0;34m\"Nayan\"\u001b[0m\u001b[0;34m,\u001b[0m\u001b[0;34m\"Nakhwa\"\u001b[0m\u001b[0;34m,\u001b[0m\u001b[0;34m\"Best\"\u001b[0m\u001b[0;34m]\u001b[0m\u001b[0;34m\u001b[0m\u001b[0;34m\u001b[0m\u001b[0m\n\u001b[1;32m      2\u001b[0m \u001b[0;32mdel\u001b[0m \u001b[0mList5\u001b[0m\u001b[0;34m\u001b[0m\u001b[0;34m\u001b[0m\u001b[0m\n\u001b[0;32m----> 3\u001b[0;31m \u001b[0mprint\u001b[0m\u001b[0;34m(\u001b[0m\u001b[0mList5\u001b[0m\u001b[0;34m)\u001b[0m\u001b[0;34m\u001b[0m\u001b[0;34m\u001b[0m\u001b[0m\n\u001b[0m",
            "\u001b[0;31mNameError\u001b[0m: name 'List5' is not defined"
          ]
        }
      ]
    },
    {
      "cell_type": "code",
      "metadata": {
        "id": "vxka-2lkGbbC",
        "outputId": "abc073a7-93fa-4493-c28d-92111b569271",
        "colab": {
          "base_uri": "https://localhost:8080/"
        }
      },
      "source": [
        "List5 = [\"Nayan\",\"Nakhwa\",\"Best\"]\n",
        "del List5[0]\n",
        "print(List5)"
      ],
      "execution_count": null,
      "outputs": [
        {
          "output_type": "stream",
          "text": [
            "['Nakhwa', 'Best']\n"
          ],
          "name": "stdout"
        }
      ]
    },
    {
      "cell_type": "code",
      "metadata": {
        "id": "AtTFCpj7GryF",
        "outputId": "d2ff4a7e-6452-425e-a451-4ff49d9ca541",
        "colab": {
          "base_uri": "https://localhost:8080/"
        }
      },
      "source": [
        "#Clear\n",
        "List5 = [\"Nayan\",\"Nakhwa\",\"Best\"]\n",
        "List5.clear()\n",
        "print(List5)"
      ],
      "execution_count": null,
      "outputs": [
        {
          "output_type": "stream",
          "text": [
            "[]\n"
          ],
          "name": "stdout"
        }
      ]
    },
    {
      "cell_type": "code",
      "metadata": {
        "id": "nXwb0BjRHFja",
        "outputId": "7f5607d7-d6cf-4e37-9a74-9a58e3c6b932",
        "colab": {
          "base_uri": "https://localhost:8080/"
        }
      },
      "source": [
        "List5 = [\"Nayan\",\"Nakhwa\",\"Best\"]\n",
        "copy1 = List5.copy()\n",
        "print(copy1)"
      ],
      "execution_count": null,
      "outputs": [
        {
          "output_type": "stream",
          "text": [
            "['Nayan', 'Nakhwa', 'Best']\n"
          ],
          "name": "stdout"
        }
      ]
    },
    {
      "cell_type": "code",
      "metadata": {
        "id": "I1pT3jieHtq7",
        "outputId": "8c30159b-106e-4acd-c8d4-c0e063e4da04",
        "colab": {
          "base_uri": "https://localhost:8080/"
        }
      },
      "source": [
        "List5 = [\"Nayan\",\"Nakhwa\",\"Best\"]\n",
        "List6 = list(List5)\n",
        "print(List6)"
      ],
      "execution_count": null,
      "outputs": [
        {
          "output_type": "stream",
          "text": [
            "['Nayan', 'Nakhwa', 'Best']\n"
          ],
          "name": "stdout"
        }
      ]
    },
    {
      "cell_type": "code",
      "metadata": {
        "id": "JYMaFQRWIBtU"
      },
      "source": [
        "5 and 6 and 7"
      ],
      "execution_count": null,
      "outputs": []
    },
    {
      "cell_type": "code",
      "metadata": {
        "id": "Mf7y2CEPIVAK",
        "outputId": "60b56036-53e2-4037-f18a-d7bbdf5fc95f",
        "colab": {
          "base_uri": "https://localhost:8080/"
        }
      },
      "source": [
        "L = [1,2,3]\n",
        "L1 = ['a','z','r']\n",
        "L2 = L + L1\n",
        "print(L2)"
      ],
      "execution_count": null,
      "outputs": [
        {
          "output_type": "stream",
          "text": [
            "[1, 2, 3, 'a', 'z', 'r']\n"
          ],
          "name": "stdout"
        }
      ]
    },
    {
      "cell_type": "code",
      "metadata": {
        "id": "WBhpJiTWI1_l",
        "outputId": "7b087ca4-94e0-4c97-af5d-50ecad0455d5",
        "colab": {
          "base_uri": "https://localhost:8080/"
        }
      },
      "source": [
        "L = [1,2,3]\n",
        "L1 = ['a','z','r']\n",
        "for x in L1:\n",
        "  L.append(x)\n",
        "print(L)"
      ],
      "execution_count": null,
      "outputs": [
        {
          "output_type": "stream",
          "text": [
            "[1, 2, 3, 'a', 'z', 'r']\n"
          ],
          "name": "stdout"
        }
      ]
    },
    {
      "cell_type": "code",
      "metadata": {
        "id": "Sqb8Xo6zJSv2",
        "outputId": "9687e556-d550-4bc1-e476-088fd62db64c",
        "colab": {
          "base_uri": "https://localhost:8080/"
        }
      },
      "source": [
        "L = [1,2,3]\n",
        "L1 = ['a','z','r']\n",
        "for x in L:\n",
        "  L1.append(x)\n",
        "print(L1)"
      ],
      "execution_count": null,
      "outputs": [
        {
          "output_type": "stream",
          "text": [
            "['a', 'z', 'r', 1, 2, 3]\n"
          ],
          "name": "stdout"
        }
      ]
    },
    {
      "cell_type": "code",
      "metadata": {
        "id": "aDkpwZPPJf_g",
        "outputId": "1ad92b5a-3341-410e-f3c2-95f0c9b712ae",
        "colab": {
          "base_uri": "https://localhost:8080/"
        }
      },
      "source": [
        "L = [1,2,3]\n",
        "L1 = ['a','z','r']\n",
        "L.extend(L1)\n",
        "print(L)"
      ],
      "execution_count": null,
      "outputs": [
        {
          "output_type": "stream",
          "text": [
            "[1, 2, 3, 'a', 'z', 'r']\n"
          ],
          "name": "stdout"
        }
      ]
    },
    {
      "cell_type": "code",
      "metadata": {
        "id": "eJZosO-fKqF4",
        "outputId": "9a91db66-b954-406b-97f4-bf2aeeca8eb0",
        "colab": {
          "base_uri": "https://localhost:8080/"
        }
      },
      "source": [
        "L = ['c','a','f']\n",
        "L.sort()\n",
        "print(L)"
      ],
      "execution_count": null,
      "outputs": [
        {
          "output_type": "stream",
          "text": [
            "['a', 'c', 'f']\n"
          ],
          "name": "stdout"
        }
      ]
    },
    {
      "cell_type": "code",
      "metadata": {
        "id": "wFG__2S2KExg",
        "outputId": "756a0daf-993b-4808-f551-c214dbff23eb",
        "colab": {
          "base_uri": "https://localhost:8080/"
        }
      },
      "source": [
        "L8 = [4,7,2,3,5,6,7]\n",
        "L8.sort()\n",
        "print(L8)"
      ],
      "execution_count": null,
      "outputs": [
        {
          "output_type": "stream",
          "text": [
            "[2, 3, 4, 5, 6, 7, 7]\n"
          ],
          "name": "stdout"
        }
      ]
    },
    {
      "cell_type": "code",
      "metadata": {
        "id": "hapPsQNSKlGQ",
        "outputId": "dd2e990a-b44f-4313-a41f-1f5a4b505aa7",
        "colab": {
          "base_uri": "https://localhost:8080/"
        }
      },
      "source": [
        "List6 = [\"Nayan\",\"Nakhwa\",\"Best\"]\n",
        "List6.sort()\n",
        "print(List6)"
      ],
      "execution_count": null,
      "outputs": [
        {
          "output_type": "stream",
          "text": [
            "['Best', 'Nakhwa', 'Nayan']\n"
          ],
          "name": "stdout"
        }
      ]
    },
    {
      "cell_type": "code",
      "metadata": {
        "id": "ocWtT4wFLIf8",
        "outputId": "f857780e-bf19-4625-8dc1-5127bad520da",
        "colab": {
          "base_uri": "https://localhost:8080/"
        }
      },
      "source": [
        "L8 = [4,7,2,3,5,6,7]\n",
        "L8.sort(reverse = True)\n",
        "print(L8)"
      ],
      "execution_count": null,
      "outputs": [
        {
          "output_type": "stream",
          "text": [
            "[7, 7, 6, 5, 4, 3, 2]\n"
          ],
          "name": "stdout"
        }
      ]
    },
    {
      "cell_type": "code",
      "metadata": {
        "id": "h9jqS8FrLuVN",
        "outputId": "980a98b3-5316-49be-fdef-258f16605c90",
        "colab": {
          "base_uri": "https://localhost:8080/"
        }
      },
      "source": [
        "L8 = [4,7,2,3,5,6,7]\n",
        "sum(L8)"
      ],
      "execution_count": null,
      "outputs": [
        {
          "output_type": "execute_result",
          "data": {
            "text/plain": [
              "34"
            ]
          },
          "metadata": {
            "tags": []
          },
          "execution_count": 46
        }
      ]
    },
    {
      "cell_type": "code",
      "metadata": {
        "id": "u2RkH1L5L4zx",
        "outputId": "24c56ef2-567e-4533-b0d5-a644171d5fa0",
        "colab": {
          "base_uri": "https://localhost:8080/"
        }
      },
      "source": [
        "L8 = [4,7,2,3,5,6,7]\n",
        "L9 = L8*10\n",
        "print(L9)"
      ],
      "execution_count": null,
      "outputs": [
        {
          "output_type": "stream",
          "text": [
            "[4, 7, 2, 3, 5, 6, 7, 4, 7, 2, 3, 5, 6, 7, 4, 7, 2, 3, 5, 6, 7, 4, 7, 2, 3, 5, 6, 7, 4, 7, 2, 3, 5, 6, 7, 4, 7, 2, 3, 5, 6, 7, 4, 7, 2, 3, 5, 6, 7, 4, 7, 2, 3, 5, 6, 7, 4, 7, 2, 3, 5, 6, 7, 4, 7, 2, 3, 5, 6, 7]\n"
          ],
          "name": "stdout"
        }
      ]
    },
    {
      "cell_type": "code",
      "metadata": {
        "id": "EVqbu_CuMqeF",
        "outputId": "050c90df-6834-4732-c809-d96481e7dfe5",
        "colab": {
          "base_uri": "https://localhost:8080/"
        }
      },
      "source": [
        "L8 = [4,7,2,3,5,6,7]\n",
        "min(L8)"
      ],
      "execution_count": null,
      "outputs": [
        {
          "output_type": "execute_result",
          "data": {
            "text/plain": [
              "2"
            ]
          },
          "metadata": {
            "tags": []
          },
          "execution_count": 51
        }
      ]
    },
    {
      "cell_type": "code",
      "metadata": {
        "id": "V_YOXSkRM1I4",
        "outputId": "d22870dd-f212-463d-f6e5-b79a706610cc",
        "colab": {
          "base_uri": "https://localhost:8080/"
        }
      },
      "source": [
        "L8 = [4,7,2,3,5,6,2,2.000001]\n",
        "type(L8)\n",
        "min(L8)"
      ],
      "execution_count": null,
      "outputs": [
        {
          "output_type": "execute_result",
          "data": {
            "text/plain": [
              "2"
            ]
          },
          "metadata": {
            "tags": []
          },
          "execution_count": 53
        }
      ]
    },
    {
      "cell_type": "code",
      "metadata": {
        "id": "lVjO6dVmNIsI",
        "outputId": "72dc7a88-1620-4823-9d85-d9edc5fd3348",
        "colab": {
          "base_uri": "https://localhost:8080/"
        }
      },
      "source": [
        "L8 = [4,7,2,3,5,6,7]\n",
        "L8.reverse()\n",
        "print(L8)"
      ],
      "execution_count": 54,
      "outputs": [
        {
          "output_type": "stream",
          "text": [
            "[7, 6, 5, 3, 2, 7, 4]\n"
          ],
          "name": "stdout"
        }
      ]
    },
    {
      "cell_type": "code",
      "metadata": {
        "id": "9LHtYS-MUkAV",
        "outputId": "b5a26ef9-8d9f-444d-84f7-5cd15f9ad68a",
        "colab": {
          "base_uri": "https://localhost:8080/"
        }
      },
      "source": [
        "Tup = (1,2,3,4,5)\n",
        "print(Tup)"
      ],
      "execution_count": 55,
      "outputs": [
        {
          "output_type": "stream",
          "text": [
            "(1, 2, 3, 4, 5)\n"
          ],
          "name": "stdout"
        }
      ]
    },
    {
      "cell_type": "code",
      "metadata": {
        "id": "pRVSzljvVtsh",
        "outputId": "578df7dd-59a7-4f2f-d500-748068c3e66e",
        "colab": {
          "base_uri": "https://localhost:8080/"
        }
      },
      "source": [
        "Tup1 = ('Nayan', 'Nakhwa')\n",
        "print(Tup1)"
      ],
      "execution_count": 57,
      "outputs": [
        {
          "output_type": "stream",
          "text": [
            "('Nayan', 'Nakhwa')\n"
          ],
          "name": "stdout"
        }
      ]
    },
    {
      "cell_type": "code",
      "metadata": {
        "id": "XQ6nqJwZV_BT",
        "outputId": "a7e5633c-cdea-4d24-f762-c1051df0f2d0",
        "colab": {
          "base_uri": "https://localhost:8080/"
        }
      },
      "source": [
        "Tup = (1,2,3,4,5)\n",
        "print(Tup[-5])"
      ],
      "execution_count": 58,
      "outputs": [
        {
          "output_type": "stream",
          "text": [
            "1\n"
          ],
          "name": "stdout"
        }
      ]
    },
    {
      "cell_type": "code",
      "metadata": {
        "id": "-NCXl31JWJrh",
        "outputId": "1159d233-14ef-4cc2-ac70-ed9c053fcc08",
        "colab": {
          "base_uri": "https://localhost:8080/"
        }
      },
      "source": [
        "Tup3 = ('Apple', 'Samsung', 'Vivo', 'Oppo', 'Nokia')\n",
        "print(Tup3[1])\n",
        "print(Tup3[-4])"
      ],
      "execution_count": 60,
      "outputs": [
        {
          "output_type": "stream",
          "text": [
            "Samsung\n",
            "Samsung\n"
          ],
          "name": "stdout"
        }
      ]
    },
    {
      "cell_type": "code",
      "metadata": {
        "id": "87wCtI1pWk7i",
        "outputId": "a184a9f1-5b22-43fe-d1de-af65ae51dd4d",
        "colab": {
          "base_uri": "https://localhost:8080/"
        }
      },
      "source": [
        "Tup3 = ('Apple', 'Samsung', 'Vivo', 'Oppo', 'Nokia')\n",
        "print(Tup3[1:4])"
      ],
      "execution_count": 61,
      "outputs": [
        {
          "output_type": "stream",
          "text": [
            "('Samsung', 'Vivo', 'Oppo')\n"
          ],
          "name": "stdout"
        }
      ]
    },
    {
      "cell_type": "code",
      "metadata": {
        "id": "dRnDG8PxWun5",
        "outputId": "122a9d25-7ac7-462c-bf4e-3d0d44da4fae",
        "colab": {
          "base_uri": "https://localhost:8080/"
        }
      },
      "source": [
        "Tup3 = ('Apple', 'Samsung', 'Vivo', 'Oppo', 'Nokia')\n",
        "print(Tup3[-5:-1])"
      ],
      "execution_count": 62,
      "outputs": [
        {
          "output_type": "stream",
          "text": [
            "('Apple', 'Samsung', 'Vivo', 'Oppo')\n"
          ],
          "name": "stdout"
        }
      ]
    },
    {
      "cell_type": "code",
      "metadata": {
        "id": "ZtVK2aD_isEe",
        "outputId": "ebf678f7-9df5-4ea7-fccc-2988258a33ee",
        "colab": {
          "base_uri": "https://localhost:8080/",
          "height": 197
        }
      },
      "source": [
        "Tup3 = ('Apple', 'Samsung', 'Vivo', 'Oppo', 'Nokia')\n",
        "Tup3.append('A')\n",
        "print(Tup3)"
      ],
      "execution_count": 63,
      "outputs": [
        {
          "output_type": "error",
          "ename": "AttributeError",
          "evalue": "ignored",
          "traceback": [
            "\u001b[0;31m---------------------------------------------------------------------------\u001b[0m",
            "\u001b[0;31mAttributeError\u001b[0m                            Traceback (most recent call last)",
            "\u001b[0;32m<ipython-input-63-29bd049382b4>\u001b[0m in \u001b[0;36m<module>\u001b[0;34m()\u001b[0m\n\u001b[1;32m      1\u001b[0m \u001b[0mTup3\u001b[0m \u001b[0;34m=\u001b[0m \u001b[0;34m(\u001b[0m\u001b[0;34m'Apple'\u001b[0m\u001b[0;34m,\u001b[0m \u001b[0;34m'Samsung'\u001b[0m\u001b[0;34m,\u001b[0m \u001b[0;34m'Vivo'\u001b[0m\u001b[0;34m,\u001b[0m \u001b[0;34m'Oppo'\u001b[0m\u001b[0;34m,\u001b[0m \u001b[0;34m'Nokia'\u001b[0m\u001b[0;34m)\u001b[0m\u001b[0;34m\u001b[0m\u001b[0;34m\u001b[0m\u001b[0m\n\u001b[0;32m----> 2\u001b[0;31m \u001b[0mTup3\u001b[0m\u001b[0;34m.\u001b[0m\u001b[0mappend\u001b[0m\u001b[0;34m(\u001b[0m\u001b[0;34m'A'\u001b[0m\u001b[0;34m)\u001b[0m\u001b[0;34m\u001b[0m\u001b[0;34m\u001b[0m\u001b[0m\n\u001b[0m\u001b[1;32m      3\u001b[0m \u001b[0mprint\u001b[0m\u001b[0;34m(\u001b[0m\u001b[0mTup3\u001b[0m\u001b[0;34m)\u001b[0m\u001b[0;34m\u001b[0m\u001b[0;34m\u001b[0m\u001b[0m\n",
            "\u001b[0;31mAttributeError\u001b[0m: 'tuple' object has no attribute 'append'"
          ]
        }
      ]
    },
    {
      "cell_type": "code",
      "metadata": {
        "id": "jwNRnGpCjBp0",
        "outputId": "9e5cebfe-7fb0-4646-f816-527bd1701016",
        "colab": {
          "base_uri": "https://localhost:8080/"
        }
      },
      "source": [
        "Tup3 = ('Apple', 'Samsung', 'Vivo', 'Oppo', 'Nokia')\n",
        "y = list(Tup3)\n",
        "y[1] = \"Huawei\"\n",
        "Tup3 = tuple(y)\n",
        "print(Tup3)"
      ],
      "execution_count": 64,
      "outputs": [
        {
          "output_type": "stream",
          "text": [
            "('Apple', 'Huawei', 'Vivo', 'Oppo', 'Nokia')\n"
          ],
          "name": "stdout"
        }
      ]
    },
    {
      "cell_type": "code",
      "metadata": {
        "id": "szj4uSWFjsXp",
        "outputId": "6396dd2b-d720-48ae-f36c-4b0a49e8bccd",
        "colab": {
          "base_uri": "https://localhost:8080/"
        }
      },
      "source": [
        "Tup3 = ('Apple', 'Samsung', 'Vivo', 'Oppo', 'Nokia')\n",
        "if \"Samsung\" and \"apple\" in Tup3:\n",
        "  print(\"Yes\")\n",
        "else:\n",
        "  print(\"No\")"
      ],
      "execution_count": 74,
      "outputs": [
        {
          "output_type": "stream",
          "text": [
            "No\n"
          ],
          "name": "stdout"
        }
      ]
    },
    {
      "cell_type": "code",
      "metadata": {
        "id": "AnHOm7E3kjG4",
        "outputId": "c4e6fc2d-2d1b-42c8-ded8-151f9f9094e3",
        "colab": {
          "base_uri": "https://localhost:8080/"
        }
      },
      "source": [
        "Tup3 = ('Apple', 'Samsung', 'Vivo', 'Oppo', 'Nokia')\n",
        "print(len(Tup3))"
      ],
      "execution_count": 75,
      "outputs": [
        {
          "output_type": "stream",
          "text": [
            "5\n"
          ],
          "name": "stdout"
        }
      ]
    },
    {
      "cell_type": "code",
      "metadata": {
        "id": "AnwraVXtlADR",
        "outputId": "f4a380f7-5857-4c98-8c47-c78fcf04eef6",
        "colab": {
          "base_uri": "https://localhost:8080/",
          "height": 197
        }
      },
      "source": [
        "Tup3 = ('Apple', 'Samsung', 'Vivo', 'Oppo', 'Nokia')\n",
        "del Tup3\n",
        "print(Tup3)"
      ],
      "execution_count": 77,
      "outputs": [
        {
          "output_type": "error",
          "ename": "NameError",
          "evalue": "ignored",
          "traceback": [
            "\u001b[0;31m---------------------------------------------------------------------------\u001b[0m",
            "\u001b[0;31mNameError\u001b[0m                                 Traceback (most recent call last)",
            "\u001b[0;32m<ipython-input-77-cf6e6eb54727>\u001b[0m in \u001b[0;36m<module>\u001b[0;34m()\u001b[0m\n\u001b[1;32m      1\u001b[0m \u001b[0mTup3\u001b[0m \u001b[0;34m=\u001b[0m \u001b[0;34m(\u001b[0m\u001b[0;34m'Apple'\u001b[0m\u001b[0;34m,\u001b[0m \u001b[0;34m'Samsung'\u001b[0m\u001b[0;34m,\u001b[0m \u001b[0;34m'Vivo'\u001b[0m\u001b[0;34m,\u001b[0m \u001b[0;34m'Oppo'\u001b[0m\u001b[0;34m,\u001b[0m \u001b[0;34m'Nokia'\u001b[0m\u001b[0;34m)\u001b[0m\u001b[0;34m\u001b[0m\u001b[0;34m\u001b[0m\u001b[0m\n\u001b[1;32m      2\u001b[0m \u001b[0;32mdel\u001b[0m \u001b[0mTup3\u001b[0m\u001b[0;34m\u001b[0m\u001b[0;34m\u001b[0m\u001b[0m\n\u001b[0;32m----> 3\u001b[0;31m \u001b[0mprint\u001b[0m\u001b[0;34m(\u001b[0m\u001b[0mTup3\u001b[0m\u001b[0;34m)\u001b[0m\u001b[0;34m\u001b[0m\u001b[0;34m\u001b[0m\u001b[0m\n\u001b[0m",
            "\u001b[0;31mNameError\u001b[0m: name 'Tup3' is not defined"
          ]
        }
      ]
    },
    {
      "cell_type": "code",
      "metadata": {
        "id": "C4_BiM-lluA4",
        "outputId": "1d3cb393-01bb-4c49-830e-faaafe1d3c31",
        "colab": {
          "base_uri": "https://localhost:8080/"
        }
      },
      "source": [
        "Tup3 = ('Apple', 'Samsung', 'Vivo', 'Oppo', 'Nokia')\n",
        "Tup5 = (1,2,3,4)\n",
        "Tup4 = Tup3 + Tup5\n",
        "print(Tup4)"
      ],
      "execution_count": 78,
      "outputs": [
        {
          "output_type": "stream",
          "text": [
            "('Apple', 'Samsung', 'Vivo', 'Oppo', 'Nokia', 1, 2, 3, 4)\n"
          ],
          "name": "stdout"
        }
      ]
    },
    {
      "cell_type": "code",
      "metadata": {
        "id": "vg8jyQMll8tp",
        "outputId": "209eca06-4afd-407c-a2d8-e71a6d1b2f9a",
        "colab": {
          "base_uri": "https://localhost:8080/"
        }
      },
      "source": [
        "Tup4.count(\"Samsung\")"
      ],
      "execution_count": 87,
      "outputs": [
        {
          "output_type": "execute_result",
          "data": {
            "text/plain": [
              "1"
            ]
          },
          "metadata": {
            "tags": []
          },
          "execution_count": 87
        }
      ]
    },
    {
      "cell_type": "code",
      "metadata": {
        "id": "KEvYcG5Fmiqt",
        "outputId": "c53c6c2a-026d-491f-a7d6-e338bdf2a4e1",
        "colab": {
          "base_uri": "https://localhost:8080/"
        }
      },
      "source": [
        "min(Tup5)"
      ],
      "execution_count": 89,
      "outputs": [
        {
          "output_type": "execute_result",
          "data": {
            "text/plain": [
              "1"
            ]
          },
          "metadata": {
            "tags": []
          },
          "execution_count": 89
        }
      ]
    },
    {
      "cell_type": "code",
      "metadata": {
        "id": "hIeExrSHmpXi",
        "outputId": "9bfe147e-87c4-40c3-a52d-2010b5aa7f10",
        "colab": {
          "base_uri": "https://localhost:8080/"
        }
      },
      "source": [
        "a = (100,98,65,43,32,21)\n",
        "print(max(a))\n",
        "print(min(a))\n",
        "print(len(a))"
      ],
      "execution_count": 90,
      "outputs": [
        {
          "output_type": "stream",
          "text": [
            "100\n",
            "21\n",
            "6\n"
          ],
          "name": "stdout"
        }
      ]
    },
    {
      "cell_type": "code",
      "metadata": {
        "id": "3seg3uT_pmFy",
        "outputId": "1c4d6748-ddb4-4366-db52-bc61a9e07bf3",
        "colab": {
          "base_uri": "https://localhost:8080/"
        }
      },
      "source": [
        "dict.keys(Dict1)"
      ],
      "execution_count": 104,
      "outputs": [
        {
          "output_type": "execute_result",
          "data": {
            "text/plain": [
              "dict_keys(['Brand', 'Modal', 'Color', 'Memory'])"
            ]
          },
          "metadata": {
            "tags": []
          },
          "execution_count": 104
        }
      ]
    },
    {
      "cell_type": "code",
      "metadata": {
        "id": "haw4fp5cptLV",
        "outputId": "3d4e12c1-a3e5-414a-9cc5-7f887cd75928",
        "colab": {
          "base_uri": "https://localhost:8080/"
        }
      },
      "source": [
        "dict.values(Dict1)"
      ],
      "execution_count": 105,
      "outputs": [
        {
          "output_type": "execute_result",
          "data": {
            "text/plain": [
              "dict_values(['Iphone', '11Pro', 'Green', '256GB'])"
            ]
          },
          "metadata": {
            "tags": []
          },
          "execution_count": 105
        }
      ]
    },
    {
      "cell_type": "code",
      "metadata": {
        "id": "12bDwoy4oOkJ",
        "outputId": "e5d9c76a-b827-486e-d035-bb0d3c054be0",
        "colab": {
          "base_uri": "https://localhost:8080/"
        }
      },
      "source": [
        "Dict1= {'Brand':'Iphone','Modal':'11Pro','Color':'Green','Memory':'256GB'}\n",
        "print(Dict1)"
      ],
      "execution_count": 91,
      "outputs": [
        {
          "output_type": "stream",
          "text": [
            "{'Brand': 'Iphone', 'Modal': '11Pro', 'Color': 'Green', 'Memory': '256GB'}\n"
          ],
          "name": "stdout"
        }
      ]
    },
    {
      "cell_type": "code",
      "metadata": {
        "id": "uEL5iSGVox5G",
        "outputId": "5ab474a2-80a0-4b38-9696-d66ca5795cd3",
        "colab": {
          "base_uri": "https://localhost:8080/"
        }
      },
      "source": [
        "Y = Dict1.get(\"Brand\")\n",
        "print(Y)"
      ],
      "execution_count": 102,
      "outputs": [
        {
          "output_type": "stream",
          "text": [
            "Iphone\n"
          ],
          "name": "stdout"
        }
      ]
    },
    {
      "cell_type": "code",
      "metadata": {
        "id": "WwhUT-Cxpcow",
        "outputId": "b057b591-fd75-4bf1-dd64-bb01eb4f3d61",
        "colab": {
          "base_uri": "https://localhost:8080/"
        }
      },
      "source": [
        "Y = Dict1[\"Brand\"]\n",
        "print(Y)"
      ],
      "execution_count": 103,
      "outputs": [
        {
          "output_type": "stream",
          "text": [
            "Iphone\n"
          ],
          "name": "stdout"
        }
      ]
    },
    {
      "cell_type": "code",
      "metadata": {
        "id": "a9wlKgvkp0Qb",
        "outputId": "39fa2d7a-b6a0-40d0-b0a2-a95d96e238fd",
        "colab": {
          "base_uri": "https://localhost:8080/"
        }
      },
      "source": [
        "for x in Dict1:\n",
        "  print(Dict1[x])"
      ],
      "execution_count": 106,
      "outputs": [
        {
          "output_type": "stream",
          "text": [
            "Iphone\n",
            "11Pro\n",
            "Green\n",
            "256GB\n"
          ],
          "name": "stdout"
        }
      ]
    },
    {
      "cell_type": "code",
      "metadata": {
        "id": "AY2IskUSqS8K",
        "outputId": "c08d7743-c923-4d19-a714-38a26a300df7",
        "colab": {
          "base_uri": "https://localhost:8080/"
        }
      },
      "source": [
        "for x in Dict1.values():\n",
        "  print(x)"
      ],
      "execution_count": 108,
      "outputs": [
        {
          "output_type": "stream",
          "text": [
            "Iphone\n",
            "11Pro\n",
            "Green\n",
            "256GB\n"
          ],
          "name": "stdout"
        }
      ]
    },
    {
      "cell_type": "code",
      "metadata": {
        "id": "lDjWUpb1qhRQ",
        "outputId": "224a8959-5409-4d68-98a1-6030d964406e",
        "colab": {
          "base_uri": "https://localhost:8080/"
        }
      },
      "source": [
        "for x in Dict1.keys():\n",
        "  print(x)"
      ],
      "execution_count": 109,
      "outputs": [
        {
          "output_type": "stream",
          "text": [
            "Brand\n",
            "Modal\n",
            "Color\n",
            "Memory\n"
          ],
          "name": "stdout"
        }
      ]
    },
    {
      "cell_type": "code",
      "metadata": {
        "id": "V-0PGLyHqqVf",
        "outputId": "4893f8b1-0b2e-458f-c3ce-4fbc762aa890",
        "colab": {
          "base_uri": "https://localhost:8080/"
        }
      },
      "source": [
        "for x in Dict1:\n",
        "  print(x)"
      ],
      "execution_count": 110,
      "outputs": [
        {
          "output_type": "stream",
          "text": [
            "Brand\n",
            "Modal\n",
            "Color\n",
            "Memory\n"
          ],
          "name": "stdout"
        }
      ]
    },
    {
      "cell_type": "code",
      "metadata": {
        "id": "HCvzJJ84qxGS",
        "outputId": "8cd4ff95-bd65-4f3e-a7cb-e8c86484b760",
        "colab": {
          "base_uri": "https://localhost:8080/"
        }
      },
      "source": [
        "for x,y in Dict1.items():\n",
        "  print(x,y)"
      ],
      "execution_count": 115,
      "outputs": [
        {
          "output_type": "stream",
          "text": [
            "Brand Iphone\n",
            "Modal 11Pro\n",
            "Color Green\n",
            "Memory 256GB\n"
          ],
          "name": "stdout"
        }
      ]
    },
    {
      "cell_type": "code",
      "metadata": {
        "id": "97gJLbJFrRVr",
        "outputId": "381b9a4e-2784-4c4b-898e-1e1e73cc9e84",
        "colab": {
          "base_uri": "https://localhost:8080/"
        }
      },
      "source": [
        "if Brand in Dict1:\n",
        "  print('Yes')"
      ],
      "execution_count": 120,
      "outputs": [
        {
          "output_type": "stream",
          "text": [
            "Yes\n"
          ],
          "name": "stdout"
        }
      ]
    },
    {
      "cell_type": "code",
      "metadata": {
        "id": "VNIkAAyurxYp",
        "outputId": "d62e4a96-0bdf-43c1-d08e-d9d66a81c352",
        "colab": {
          "base_uri": "https://localhost:8080/"
        }
      },
      "source": [
        "Dict1= {'Brand':'Iphone','Modal':'11Pro','Color':'Green','Memory':'256GB'}\n",
        "Dict1['Price'] = \"Overpriced\"\n",
        "print(Dict1)"
      ],
      "execution_count": 126,
      "outputs": [
        {
          "output_type": "stream",
          "text": [
            "{'Brand': 'Iphone', 'Modal': '11Pro', 'Color': 'Green', 'Memory': '256GB', 'Price': 'Overpriced'}\n"
          ],
          "name": "stdout"
        }
      ]
    },
    {
      "cell_type": "code",
      "metadata": {
        "id": "e5leRUVDsjBI",
        "outputId": "9498a1a4-4450-485a-f823-27ff8c088c04",
        "colab": {
          "base_uri": "https://localhost:8080/"
        }
      },
      "source": [
        "Dict1.pop(\"Price\")\n",
        "print(Dict1)"
      ],
      "execution_count": 125,
      "outputs": [
        {
          "output_type": "stream",
          "text": [
            "{'Brand': 'Iphone', 'Modal': '11Pro', 'Color': 'Green', 'Memory': '256GB'}\n"
          ],
          "name": "stdout"
        }
      ]
    },
    {
      "cell_type": "code",
      "metadata": {
        "id": "fctLMdMWtDgh",
        "outputId": "61a98366-d9d5-4212-f3a6-7f3b0418a0e1",
        "colab": {
          "base_uri": "https://localhost:8080/"
        }
      },
      "source": [
        "Dict1.popitem()\n",
        "print(Dict1)"
      ],
      "execution_count": 131,
      "outputs": [
        {
          "output_type": "stream",
          "text": [
            "{}\n"
          ],
          "name": "stdout"
        }
      ]
    },
    {
      "cell_type": "code",
      "metadata": {
        "id": "M4CFEuH9tobA",
        "outputId": "c8fb0c0e-f2c9-4bdc-b864-03f7f1194be5",
        "colab": {
          "base_uri": "https://localhost:8080/"
        }
      },
      "source": [
        "Dict1= {'Brand':'Iphone','Modal':'11Pro','Color':'Green','Memory':'256GB'}\n",
        "del Dict1[\"Modal\"]\n",
        "print(Dict1)"
      ],
      "execution_count": 133,
      "outputs": [
        {
          "output_type": "stream",
          "text": [
            "{'Brand': 'Iphone', 'Color': 'Green', 'Memory': '256GB'}\n"
          ],
          "name": "stdout"
        }
      ]
    },
    {
      "cell_type": "code",
      "metadata": {
        "id": "CPSjPd_3t7zd",
        "outputId": "7802c4b2-3bcb-451f-a5ca-b892a66fa53e",
        "colab": {
          "base_uri": "https://localhost:8080/",
          "height": 197
        }
      },
      "source": [
        "Dict1= {'Brand':'Iphone','Modal':'11Pro','Color':'Green','Memory':'256GB'}\n",
        "del Dict1\n",
        "print(Dict1)"
      ],
      "execution_count": 135,
      "outputs": [
        {
          "output_type": "error",
          "ename": "NameError",
          "evalue": "ignored",
          "traceback": [
            "\u001b[0;31m---------------------------------------------------------------------------\u001b[0m",
            "\u001b[0;31mNameError\u001b[0m                                 Traceback (most recent call last)",
            "\u001b[0;32m<ipython-input-135-350669a34571>\u001b[0m in \u001b[0;36m<module>\u001b[0;34m()\u001b[0m\n\u001b[1;32m      1\u001b[0m \u001b[0mDict1\u001b[0m\u001b[0;34m=\u001b[0m \u001b[0;34m{\u001b[0m\u001b[0;34m'Brand'\u001b[0m\u001b[0;34m:\u001b[0m\u001b[0;34m'Iphone'\u001b[0m\u001b[0;34m,\u001b[0m\u001b[0;34m'Modal'\u001b[0m\u001b[0;34m:\u001b[0m\u001b[0;34m'11Pro'\u001b[0m\u001b[0;34m,\u001b[0m\u001b[0;34m'Color'\u001b[0m\u001b[0;34m:\u001b[0m\u001b[0;34m'Green'\u001b[0m\u001b[0;34m,\u001b[0m\u001b[0;34m'Memory'\u001b[0m\u001b[0;34m:\u001b[0m\u001b[0;34m'256GB'\u001b[0m\u001b[0;34m}\u001b[0m\u001b[0;34m\u001b[0m\u001b[0;34m\u001b[0m\u001b[0m\n\u001b[1;32m      2\u001b[0m \u001b[0;32mdel\u001b[0m \u001b[0mDict1\u001b[0m\u001b[0;34m\u001b[0m\u001b[0;34m\u001b[0m\u001b[0m\n\u001b[0;32m----> 3\u001b[0;31m \u001b[0mprint\u001b[0m\u001b[0;34m(\u001b[0m\u001b[0mDict1\u001b[0m\u001b[0;34m)\u001b[0m\u001b[0;34m\u001b[0m\u001b[0;34m\u001b[0m\u001b[0m\n\u001b[0m",
            "\u001b[0;31mNameError\u001b[0m: name 'Dict1' is not defined"
          ]
        }
      ]
    },
    {
      "cell_type": "code",
      "metadata": {
        "id": "SdY6SFicuEty",
        "outputId": "a83f7229-a7be-4a25-e373-74440ddb30be",
        "colab": {
          "base_uri": "https://localhost:8080/"
        }
      },
      "source": [
        "Dict1= {'Brand':'Iphone','Modal':'11Pro','Color':'Green','Memory':'256GB'}\n",
        "Dict1.clear()\n",
        "print(Dict1)"
      ],
      "execution_count": 136,
      "outputs": [
        {
          "output_type": "stream",
          "text": [
            "{}\n"
          ],
          "name": "stdout"
        }
      ]
    },
    {
      "cell_type": "code",
      "metadata": {
        "id": "la8FMkMzuM1_",
        "outputId": "1075e3a6-28b0-4d6b-de80-08827e0b77ff",
        "colab": {
          "base_uri": "https://localhost:8080/"
        }
      },
      "source": [
        "Dict1= {'Brand':'Iphone','Modal':'11Pro','Color':'Green','Memory':'256GB'}\n",
        "Y = Dict1.copy()\n",
        "print(Y)"
      ],
      "execution_count": 139,
      "outputs": [
        {
          "output_type": "stream",
          "text": [
            "{'Brand': 'Iphone', 'Modal': '11Pro', 'Color': 'Green', 'Memory': '256GB'}\n"
          ],
          "name": "stdout"
        }
      ]
    },
    {
      "cell_type": "code",
      "metadata": {
        "id": "yzTpCM72udck",
        "outputId": "8ce06602-94a9-4df8-d04a-c56584e56b71",
        "colab": {
          "base_uri": "https://localhost:8080/"
        }
      },
      "source": [
        "Family = {\"Child1\": {\"Name\":\"Nayan\", \"Age\": \"23\"},\"Child2\": {\"Name\":\"Shanaya\", \"Age\": \"20\"}}\n",
        "print(Family)"
      ],
      "execution_count": 141,
      "outputs": [
        {
          "output_type": "stream",
          "text": [
            "{'Child1': {'Name': 'Nayan', 'Age': '23'}, 'Child2': {'Name': 'Shanaya', 'Age': '20'}}\n"
          ],
          "name": "stdout"
        }
      ]
    },
    {
      "cell_type": "code",
      "metadata": {
        "id": "-GQvx1hjvyif"
      },
      "source": [
        "Family = {\"Child1\": {\"Name\":\"Nayan\", \"Age\": \"23\"},\"Child2\": {\"Name\":\"Shanaya\", \"Age\": \"20\"},\"Child3\": {\"Name\":\"Raghav\", \"Age\": \"100\"}}"
      ],
      "execution_count": 142,
      "outputs": []
    },
    {
      "cell_type": "code",
      "metadata": {
        "id": "LZa5LuFewAW0",
        "outputId": "130763e8-1adb-4a6b-8dcc-c2ec6a5469f4",
        "colab": {
          "base_uri": "https://localhost:8080/"
        }
      },
      "source": [
        "Child1 = {\"Name\":\"Nayan\", \"Age\": \"23\"}\n",
        "Child2 = {\"Name\":\"Shanaya\", \"Age\": \"20\"}\n",
        "Child3 = {\"Name\":\"Raghav\", \"Age\": \"100\"}\n",
        "Family = {\"Child1\":Child1, \"Child2\":Child2, \"Child3\":Child3}\n",
        "print(Family)"
      ],
      "execution_count": 151,
      "outputs": [
        {
          "output_type": "stream",
          "text": [
            "{'Child1': {'Name': 'Nayan', 'Age': '23'}, 'Child2': {'Name': 'Shanaya', 'Age': '20'}, 'Child3': {'Name': 'Raghav', 'Age': '100'}}\n"
          ],
          "name": "stdout"
        }
      ]
    }
  ]
}